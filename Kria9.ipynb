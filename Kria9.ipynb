{
 "cells": [
  {
   "cell_type": "code",
   "execution_count": 5,
   "metadata": {},
   "outputs": [],
   "source": [
    "import numpy as np\n",
    "hamming_distance = lambda arr1, arr2: np.sum(arr1 != arr2)\n",
    "hamming_weight = lambda arr: sum(arr)\n",
    "\n",
    "def uniqueness(responses):\n",
    "    k = len(responses)\n",
    "    n = len(responses[0])\n",
    "    hd_sum = 0\n",
    "    per_puf_uniqueness = {}\n",
    "    for i in range(k - 1):\n",
    "        for j in range(i + 1, k):\n",
    "            hd = hamming_distance(np.array(responses[i]), np.array(responses[j]))\n",
    "            hd_sum += hd / n\n",
    "            if i not in per_puf_uniqueness.keys():\n",
    "                per_puf_uniqueness[i] = []\n",
    "            if j not in per_puf_uniqueness.keys():\n",
    "                per_puf_uniqueness[j] = []\n",
    "            per_puf_uniqueness[i].append(hd / n)\n",
    "            per_puf_uniqueness[j].append(hd / n)\n",
    "    for key in per_puf_uniqueness.keys():\n",
    "        per_puf_uniqueness[key] = np.mean(per_puf_uniqueness[key]) * 100\n",
    "    print(f\"Uniqueness for each PUF: {per_puf_uniqueness}\")\n",
    "    hd_inter = (2 / (k * (k - 1))) * hd_sum * 100\n",
    "    return hd_inter\n",
    "\n",
    "def reliability(reference_responses, test_responses):\n",
    "    k, n = reference_responses.shape\n",
    "    hamming_distances_sum =0\n",
    "    per_puf_reliability = {}\n",
    "    for i in range(k):\n",
    "        hd = hamming_distance(np.array(reference_responses[i]), np.array(test_responses[i]))\n",
    "        hamming_distances_sum += (hd / n)\n",
    "        if i not in per_puf_reliability.keys():\n",
    "            per_puf_reliability[i] = 0\n",
    "        per_puf_reliability[i] = 100 - ((hd / n) * 100)\n",
    "    print(f\"Reliability for each PUF: {per_puf_reliability}\")\n",
    "    avg_intra_chip_hd = (hamming_distances_sum/k) * 100\n",
    "    reliability_score = 100 - avg_intra_chip_hd\n",
    "    return reliability_score\n",
    "\n",
    "\n",
    "def uniformity(responses):\n",
    "    k = len(responses)\n",
    "    n = len(responses[0])\n",
    "    hamming_weight_sum = 0\n",
    "    per_puf_uniformity = {}\n",
    "    for i in range(k):\n",
    "        hamming_weight_sum += hamming_weight(responses[i])  \n",
    "        if i not in per_puf_uniformity.keys():\n",
    "            per_puf_uniformity[i] = 0\n",
    "        per_puf_uniformity[i] = (hamming_weight(responses[i])/n) * 100\n",
    "    print(f\"Uniformity for each PUF: {per_puf_uniformity}\")\n",
    "    uniformity_score = (hamming_weight_sum / (k*n)) * 100\n",
    "    return uniformity_score\n",
    "\n"
   ]
  },
  {
   "cell_type": "code",
   "execution_count": 6,
   "metadata": {},
   "outputs": [
    {
     "name": "stdout",
     "output_type": "stream",
     "text": [
      "Uniqueness for each PUF: {0: 49.149305555555564, 1: 45.689338235294116, 2: 43.495710784313715, 3: 43.742851307189554}\n",
      "Uniformity for each PUF: {0: 65.82107843137254, 1: 51.43075980392157, 2: 39.0655637254902, 3: 43.103553921568626}\n",
      "Reliability for each PUF: {0: 99.26470588235294, 1: 98.85723039215686, 2: 98.05759803921569, 3: 98.32720588235294}\n",
      "Overall uniqueness for RO_01 implementation: 45.51930147058824\n",
      "Overall uniformity for RO_01 implementation: 49.85523897058823\n",
      "Overall reliability for RO_01 implementation: 98.62668504901961\n"
     ]
    }
   ],
   "source": [
    "# responses = np.random.randint(2, size=(15, 32640))\n",
    "responses = np.load('CR_pair_kria9_ro_01.npy')\n",
    "responses_v2 = np.load('CR_pair_kria9_ro_01_v2.npy')\n",
    "\n",
    "uniqueness_score = uniqueness(responses)\n",
    "uniformity_score = uniformity(responses)\n",
    "reliability_score = reliability(responses, responses_v2)\n",
    "print(f\"Overall uniqueness for RO_01 implementation: {uniqueness_score}\")\n",
    "print(f\"Overall uniformity for RO_01 implementation: {uniformity_score}\")\n",
    "print(f\"Overall reliability for RO_01 implementation: {reliability_score}\")"
   ]
  },
  {
   "cell_type": "code",
   "execution_count": 7,
   "metadata": {},
   "outputs": [
    {
     "name": "stdout",
     "output_type": "stream",
     "text": [
      "Uniqueness for each PUF: {0: 50.440519957983184, 1: 51.27757352941177, 2: 50.292366946778714, 3: 51.14276960784314, 4: 48.93907563025211, 5: 50.40047268907563, 6: 49.87548144257703, 7: 49.27214635854342, 8: 50.590642507002805, 9: 50.84164915966387, 10: 49.468005952380956, 11: 50.319283963585434, 12: 50.23875175070028, 13: 50.74557948179271, 14: 50.21205357142857}\n",
      "Uniformity for each PUF: {0: 50.87928921568627, 1: 48.48039215686274, 2: 49.20343137254902, 3: 51.69117647058824, 4: 50.77818627450981, 5: 51.37867647058824, 6: 45.18688725490196, 7: 53.77450980392157, 8: 49.580269607843135, 9: 53.333333333333336, 10: 51.387867647058826, 11: 45.65257352941177, 12: 54.26776960784314, 13: 48.64889705882353, 14: 50.48100490196078}\n",
      "Reliability for each PUF: {0: 99.74264705882354, 1: 99.75183823529412, 2: 99.76102941176471, 3: 99.79473039215686, 4: 99.80698529411765, 5: 99.3658088235294, 6: 99.86825980392157, 7: 99.84375, 8: 99.81924019607843, 9: 99.81924019607843, 10: 99.81924019607843, 11: 99.83149509803921, 12: 99.81924019607843, 13: 99.89583333333333, 14: 99.81617647058823}\n",
      "Overall uniqueness for RO_02 implementation: 50.270424836601315\n",
      "Overall uniformity for RO_02 implementation: 50.31495098039216\n",
      "Overall reliability for RO_02 implementation: 99.78370098039215\n"
     ]
    }
   ],
   "source": [
    "# responses_random = np.random.randint(2, size=(15, 32640))\n",
    "responses = np.load('CR_pair_kria9_ro_02.npy')\n",
    "\n",
    "responses_v2 = np.load('CR_pair_kria9_ro_02_v2.npy')\n",
    "\n",
    "uniqueness_score = uniqueness(responses)\n",
    "uniformity_score = uniformity(responses)\n",
    "reliability_score = reliability(responses, responses_v2)\n",
    "print(f\"Overall uniqueness for RO_02 implementation: {uniqueness_score}\")\n",
    "print(f\"Overall uniformity for RO_02 implementation: {uniformity_score}\")\n",
    "print(f\"Overall reliability for RO_02 implementation: {reliability_score}\")"
   ]
  }
 ],
 "metadata": {
  "kernelspec": {
   "display_name": "Python 3",
   "language": "python",
   "name": "python3"
  },
  "language_info": {
   "codemirror_mode": {
    "name": "ipython",
    "version": 3
   },
   "file_extension": ".py",
   "mimetype": "text/x-python",
   "name": "python",
   "nbconvert_exporter": "python",
   "pygments_lexer": "ipython3",
   "version": "3.11.7"
  }
 },
 "nbformat": 4,
 "nbformat_minor": 2
}
